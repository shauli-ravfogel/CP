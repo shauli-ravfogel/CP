{
 "cells": [
  {
   "cell_type": "code",
   "execution_count": 1,
   "metadata": {},
   "outputs": [],
   "source": [
    "from transformers import AutoModel, AutoTokenizer\n",
    "# import gpt2 LM\n",
    "from transformers import AutoModelForCausalLM, GPT2Tokenizer\n",
    "import numpy as np\n",
    "import torch"
   ]
  },
  {
   "cell_type": "code",
   "execution_count": 2,
   "metadata": {},
   "outputs": [],
   "source": [
    "def load_gpt2_model(model_name):\n",
    "    # load the gpt2 model and tokenizer\n",
    "    # return: a pretrained model and a tokenizer\n",
    "    model = AutoModelForCausalLM.from_pretrained(model_name)\n",
    "    tokenizer = AutoTokenizer.from_pretrained(model_name)\n",
    "    return model, tokenizer\n",
    "\n",
    "\n",
    "def get_probs(model, tokenizer, text: str, device:str = \"cpu\"):\n",
    "    # feed the text to model. collect next-word probabilites for each token\n",
    "    # return a list of probabilities for each token\n",
    "    # model: a pretrained model\n",
    "    # tokenizer: a tokenizer for the model\n",
    "    # text: a string\n",
    "    # return: a list of probabilities for each token\n",
    "    \n",
    "    # tokenize the text\n",
    "    tokenized_text = tokenizer.encode(text, return_tensors=\"pt\", \n",
    "    add_special_tokens=True).to(device)\n",
    "    # feed the text to model\n",
    "    outputs = model(tokenized_text)\n",
    "    # collect next-word probabilites for *each* token\n",
    "    probs_all = []\n",
    "    for i in range(tokenized_text.shape[1]):\n",
    "        # get the next-word probabilites for the i-th token\n",
    "        logits = outputs[0][0, i, :]\n",
    "        # get the next-word probabilites for the i-th token\n",
    "        probs = torch.softmax(logits, dim=0)\n",
    "        # convert to numpy array\n",
    "        probs = probs.detach().cpu().numpy()\n",
    "        # append to the list\n",
    "        probs_all.append(probs)\n",
    "    # convert logits to probabilities\n",
    "    # convert to numpy array\n",
    "    probs = np.array(probs_all)\n",
    "    return probs, tokenized_text.detach().cpu().numpy()\n",
    "\n",
    "def translate_probs_to_words(probs, tokenizer, top_k=10):\n",
    "    # translate the probabilities to words\n",
    "    # return a list of words\n",
    "    # probs: a list of probabilities for each token\n",
    "    # tokenizer: a tokenizer for the model\n",
    "    # top_k: the number of words to return\n",
    "    # return: a list of words\n",
    "    \n",
    "    # get the top-k words for each token\n",
    "    top_k_words = []\n",
    "    for i in range(probs.shape[0]):\n",
    "        # get the top-k words for the i-th token\n",
    "        top_k_words.append(tokenizer.convert_ids_to_tokens(\n",
    "        np.argsort(probs[i])[-top_k:]))\n",
    "    # convert to numpy array\n",
    "    top_k_words = np.array(top_k_words)\n",
    "    return top_k_words\n",
    "    \n",
    "with open(\"wiki.1million.raw.txt\", \"r\") as f:\n",
    "    lines = f.readlines()\n",
    "sents = [l.strip() for l in lines]"
   ]
  },
  {
   "cell_type": "code",
   "execution_count": 1,
   "metadata": {},
   "outputs": [],
   "source": [
    "# device = \"cpu\"\n",
    "# model_name = \"facebook/opt-350m\"\n",
    "# model, tokenizer = load_gpt2_model(model_name)\n",
    "# model.to(device)\n",
    "# model.eval()\n"
   ]
  },
  {
   "cell_type": "markdown",
   "metadata": {},
   "source": [
    "## collect probabilities and true tokens"
   ]
  },
  {
   "cell_type": "code",
   "execution_count": 3,
   "metadata": {},
   "outputs": [
    {
     "name": "stdout",
     "output_type": "stream",
     "text": [
      "facebook/opt-350m\n"
     ]
    },
    {
     "name": "stderr",
     "output_type": "stream",
     "text": [
      "100%|██████████| 50000/50000 [19:22<00:00, 43.03it/s]\n"
     ]
    },
    {
     "ename": "",
     "evalue": "",
     "output_type": "error",
     "traceback": [
      "\u001b[1;31mThe Kernel crashed while executing code in the the current cell or a previous cell. Please review the code in the cell(s) to identify a possible cause of the failure. Click <a href='https://aka.ms/vscodeJupyterKernelCrash'>here</a> for more info. View Jupyter <a href='command:jupyter.viewOutput'>log</a> for further details."
     ]
    },
    {
     "ename": "",
     "evalue": "",
     "output_type": "error",
     "traceback": [
      "\u001b[1;31mCanceled future for execute_request message before replies were done"
     ]
    }
   ],
   "source": [
    "import tqdm\n",
    "import pickle\n",
    "n=50000\n",
    "models = [\"facebook/opt-125m\", \"facebook/opt-350m\", \"facebook/opt-1.3b\", \"facebook/opt-2.7b\" ,\"facebook/opt-6.7b\",\n",
    " \"facebook/opt-13b\", \"facebook/opt-30b\"]\n",
    "\n",
    "for model_name in models:\n",
    "    print(model_name)\n",
    "    preds = []\n",
    "    model, tokenizer = load_gpt2_model(model_name)\n",
    "    device = \"cuda\" if model_name in  [\"facebook/opt-125m\", \"facebook/opt-350m\", \"facebook/opt-1.3b\"] else \"cpu\"\n",
    "    model.to(device)\n",
    "    model.eval()\n",
    "\n",
    "    for i, sent in tqdm.tqdm(enumerate(sents[:n]), total = n):\n",
    "        with torch.no_grad():\n",
    "            probs, tokens = get_probs(model, tokenizer, sent, device)\n",
    "            preds.append(({\"probs\": probs, \"tokens\": tokens[0], \"sent\": sent}))\n",
    "\n",
    "    \n",
    "    for i in range(5):\n",
    "        with open(\"preds_{}_{}_part{}.pickle\".format(n, model_name.replace(\"facebook/\", \"\"), i+1), \"wb\") as f:\n",
    "            # take the the ith part of preds\n",
    "            preds_i = preds[i*10000:(i+1)*10000]\n",
    "            pickle.dump(preds_i, f)\n",
    "            del preds_i"
   ]
  }
 ],
 "metadata": {
  "kernelspec": {
   "display_name": "Python 3.9.13 ('py39')",
   "language": "python",
   "name": "python3"
  },
  "language_info": {
   "codemirror_mode": {
    "name": "ipython",
    "version": 3
   },
   "file_extension": ".py",
   "mimetype": "text/x-python",
   "name": "python",
   "nbconvert_exporter": "python",
   "pygments_lexer": "ipython3",
   "version": "3.9.13"
  },
  "orig_nbformat": 4,
  "vscode": {
   "interpreter": {
    "hash": "1c1b63d7e45613d02ba95dbc9593569dea1cc5a68834797d07b467a998ca56ee"
   }
  }
 },
 "nbformat": 4,
 "nbformat_minor": 2
}
